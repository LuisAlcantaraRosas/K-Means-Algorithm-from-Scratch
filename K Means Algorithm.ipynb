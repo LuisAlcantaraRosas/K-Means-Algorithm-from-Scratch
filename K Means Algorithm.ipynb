{
 "cells": [
  {
   "cell_type": "markdown",
   "metadata": {},
   "source": [
    "# K Means Algorithm"
   ]
  },
  {
   "cell_type": "markdown",
   "metadata": {},
   "source": [
    "K-Means is a popular algorithm for clustering in data science. Using non-parametrical techniques is great to define categories from a set of data. But, How it really works? We have a lot of packages showing the immediate way of using it and few information on the web about it.\n",
    "\n",
    "In this notebook we are going to program it manually to understand what is going on and then you can implement it using other languages. I based the methodology on Christopher Bishop's book: Pattern Recognition and Machine Learning (2009). You can check the bibliography at the end. "
   ]
  },
  {
   "cell_type": "markdown",
   "metadata": {},
   "source": [
    "## Initialize the enviroment for the algorithm"
   ]
  },
  {
   "cell_type": "markdown",
   "metadata": {},
   "source": [
    "To test our algorithm, we are going to use the iris dataset to see if we can classify all the iris species. The repository is available from sklearn. Just call the package and database."
   ]
  },
  {
   "cell_type": "code",
   "execution_count": 1,
   "metadata": {},
   "outputs": [],
   "source": [
    "from sklearn import datasets \n",
    "iris = datasets.load_iris()"
   ]
  },
  {
   "cell_type": "markdown",
   "metadata": {},
   "source": [
    "Then, we are just to transform it into a Data Frame with pandas to do all easier."
   ]
  },
  {
   "cell_type": "code",
   "execution_count": 2,
   "metadata": {},
   "outputs": [
    {
     "data": {
      "text/html": [
       "<div>\n",
       "<style scoped>\n",
       "    .dataframe tbody tr th:only-of-type {\n",
       "        vertical-align: middle;\n",
       "    }\n",
       "\n",
       "    .dataframe tbody tr th {\n",
       "        vertical-align: top;\n",
       "    }\n",
       "\n",
       "    .dataframe thead th {\n",
       "        text-align: right;\n",
       "    }\n",
       "</style>\n",
       "<table border=\"1\" class=\"dataframe\">\n",
       "  <thead>\n",
       "    <tr style=\"text-align: right;\">\n",
       "      <th></th>\n",
       "      <th>0</th>\n",
       "      <th>1</th>\n",
       "      <th>2</th>\n",
       "      <th>3</th>\n",
       "    </tr>\n",
       "  </thead>\n",
       "  <tbody>\n",
       "    <tr>\n",
       "      <th>0</th>\n",
       "      <td>5.1</td>\n",
       "      <td>3.5</td>\n",
       "      <td>1.4</td>\n",
       "      <td>0.2</td>\n",
       "    </tr>\n",
       "    <tr>\n",
       "      <th>1</th>\n",
       "      <td>4.9</td>\n",
       "      <td>3.0</td>\n",
       "      <td>1.4</td>\n",
       "      <td>0.2</td>\n",
       "    </tr>\n",
       "    <tr>\n",
       "      <th>2</th>\n",
       "      <td>4.7</td>\n",
       "      <td>3.2</td>\n",
       "      <td>1.3</td>\n",
       "      <td>0.2</td>\n",
       "    </tr>\n",
       "    <tr>\n",
       "      <th>3</th>\n",
       "      <td>4.6</td>\n",
       "      <td>3.1</td>\n",
       "      <td>1.5</td>\n",
       "      <td>0.2</td>\n",
       "    </tr>\n",
       "    <tr>\n",
       "      <th>4</th>\n",
       "      <td>5.0</td>\n",
       "      <td>3.6</td>\n",
       "      <td>1.4</td>\n",
       "      <td>0.2</td>\n",
       "    </tr>\n",
       "  </tbody>\n",
       "</table>\n",
       "</div>"
      ],
      "text/plain": [
       "     0    1    2    3\n",
       "0  5.1  3.5  1.4  0.2\n",
       "1  4.9  3.0  1.4  0.2\n",
       "2  4.7  3.2  1.3  0.2\n",
       "3  4.6  3.1  1.5  0.2\n",
       "4  5.0  3.6  1.4  0.2"
      ]
     },
     "execution_count": 2,
     "metadata": {},
     "output_type": "execute_result"
    }
   ],
   "source": [
    "import pandas as pd\n",
    "iris=pd.DataFrame(iris.data)\n",
    "iris.head()"
   ]
  },
  {
   "cell_type": "markdown",
   "metadata": {},
   "source": [
    "Is necessary for K-Means to select the number $k$ of clusters to work. For this particular case we want to set up 3 classes"
   ]
  },
  {
   "cell_type": "code",
   "execution_count": 3,
   "metadata": {},
   "outputs": [],
   "source": [
    "K=3"
   ]
  },
  {
   "cell_type": "markdown",
   "metadata": {},
   "source": [
    "So, will define some initial random values for this $\\mu_k$ clusters. Let's see first the range of each dimension to find the limits for each $\\mu_k$. "
   ]
  },
  {
   "cell_type": "code",
   "execution_count": 4,
   "metadata": {},
   "outputs": [],
   "source": [
    "import numpy as np #To calculate min and max"
   ]
  },
  {
   "cell_type": "code",
   "execution_count": 5,
   "metadata": {},
   "outputs": [],
   "source": [
    "zero_min=np.min(iris.loc[:,0])\n",
    "zero_max=np.max(iris.loc[:,0])\n",
    "\n",
    "one_min=np.min(iris.loc[:,1])\n",
    "one_max=np.max(iris.loc[:,1])\n",
    "\n",
    "two_min=np.min(iris.loc[:,2])\n",
    "two_max=np.max(iris.loc[:,2])\n",
    "\n",
    "three_min=np.min(iris.loc[:,3])\n",
    "three_max=np.max(iris.loc[:,3])"
   ]
  },
  {
   "cell_type": "markdown",
   "metadata": {},
   "source": [
    "We are going to work with a transformation of each value, just having the integer from the multiplication by 10. This is to create the random vector easier using numpy."
   ]
  },
  {
   "cell_type": "code",
   "execution_count": 6,
   "metadata": {},
   "outputs": [
    {
     "name": "stdout",
     "output_type": "stream",
     "text": [
      "43 79\n"
     ]
    }
   ],
   "source": [
    "print(int(zero_min*10),int(zero_max*10))"
   ]
  },
  {
   "cell_type": "code",
   "execution_count": 7,
   "metadata": {},
   "outputs": [],
   "source": [
    "zero_min=int(zero_min*10)\n",
    "zero_max=int(zero_max*10)\n",
    "\n",
    "one_min=int(one_min*10)\n",
    "one_max=int(one_max*10)\n",
    "\n",
    "two_min=int(two_min*10)\n",
    "two_max=int(two_max*10)\n",
    "\n",
    "three_min=int(three_min*10)\n",
    "three_max=int(three_max*10)"
   ]
  },
  {
   "cell_type": "markdown",
   "metadata": {},
   "source": [
    "We have now all limits for each dimension in the dataset. Then, we can establish the initial values for $\\mu_k$, we are going to insert all this values into a new vector called mu"
   ]
  },
  {
   "cell_type": "code",
   "execution_count": 8,
   "metadata": {},
   "outputs": [],
   "source": [
    "np.random.seed(1500) #Define first a random seed to have the same results as me"
   ]
  },
  {
   "cell_type": "code",
   "execution_count": 9,
   "metadata": {},
   "outputs": [],
   "source": [
    "mu=[]\n",
    "for i in range(0,K):\n",
    "    zeros=np.random.randint(zero_min,zero_max)\n",
    "    ones=np.random.randint(one_min,one_max)\n",
    "    twos=np.random.randint(two_min,two_max)\n",
    "    threes=np.random.randint(three_min,three_max)\n",
    "    \n",
    "    mu.append([zeros,ones,twos,threes])"
   ]
  },
  {
   "cell_type": "markdown",
   "metadata": {},
   "source": [
    "Then, we are going to transform centroinds into a numpy array and divide by 10 to have the $\\mu_k$ to have the right values for the dataset"
   ]
  },
  {
   "cell_type": "code",
   "execution_count": 10,
   "metadata": {},
   "outputs": [
    {
     "data": {
      "text/plain": [
       "array([[6.2, 3.1, 1.1, 1.5],\n",
       "       [4.5, 2.9, 2.5, 2. ],\n",
       "       [5.9, 3. , 2.7, 0.8]])"
      ]
     },
     "execution_count": 10,
     "metadata": {},
     "output_type": "execute_result"
    }
   ],
   "source": [
    "mu=np.array(mu)/10\n",
    "mu"
   ]
  },
  {
   "cell_type": "markdown",
   "metadata": {},
   "source": [
    "Will be necessary to create a matrix to add $k$ columns. We will call them as $r_{n,k}$. Where $n$ is one single dataset observation and $k$ corresponds to each cluster defined. Consider $r_{n,k}\\in\\{0,1\\}$"
   ]
  },
  {
   "cell_type": "markdown",
   "metadata": {},
   "source": [
    "This should be look as:"
   ]
  },
  {
   "cell_type": "code",
   "execution_count": 11,
   "metadata": {},
   "outputs": [
    {
     "data": {
      "text/plain": [
       "array([[0., 0., 0.],\n",
       "       [0., 0., 0.],\n",
       "       [0., 0., 0.],\n",
       "       [0., 0., 0.],\n",
       "       [0., 0., 0.],\n",
       "       [0., 0., 0.],\n",
       "       [0., 0., 0.],\n",
       "       [0., 0., 0.],\n",
       "       [0., 0., 0.],\n",
       "       [0., 0., 0.],\n",
       "       [0., 0., 0.],\n",
       "       [0., 0., 0.],\n",
       "       [0., 0., 0.],\n",
       "       [0., 0., 0.],\n",
       "       [0., 0., 0.],\n",
       "       [0., 0., 0.],\n",
       "       [0., 0., 0.],\n",
       "       [0., 0., 0.],\n",
       "       [0., 0., 0.],\n",
       "       [0., 0., 0.],\n",
       "       [0., 0., 0.],\n",
       "       [0., 0., 0.],\n",
       "       [0., 0., 0.],\n",
       "       [0., 0., 0.],\n",
       "       [0., 0., 0.],\n",
       "       [0., 0., 0.],\n",
       "       [0., 0., 0.],\n",
       "       [0., 0., 0.],\n",
       "       [0., 0., 0.],\n",
       "       [0., 0., 0.],\n",
       "       [0., 0., 0.],\n",
       "       [0., 0., 0.],\n",
       "       [0., 0., 0.],\n",
       "       [0., 0., 0.],\n",
       "       [0., 0., 0.],\n",
       "       [0., 0., 0.],\n",
       "       [0., 0., 0.],\n",
       "       [0., 0., 0.],\n",
       "       [0., 0., 0.],\n",
       "       [0., 0., 0.],\n",
       "       [0., 0., 0.],\n",
       "       [0., 0., 0.],\n",
       "       [0., 0., 0.],\n",
       "       [0., 0., 0.],\n",
       "       [0., 0., 0.],\n",
       "       [0., 0., 0.],\n",
       "       [0., 0., 0.],\n",
       "       [0., 0., 0.],\n",
       "       [0., 0., 0.],\n",
       "       [0., 0., 0.],\n",
       "       [0., 0., 0.],\n",
       "       [0., 0., 0.],\n",
       "       [0., 0., 0.],\n",
       "       [0., 0., 0.],\n",
       "       [0., 0., 0.],\n",
       "       [0., 0., 0.],\n",
       "       [0., 0., 0.],\n",
       "       [0., 0., 0.],\n",
       "       [0., 0., 0.],\n",
       "       [0., 0., 0.],\n",
       "       [0., 0., 0.],\n",
       "       [0., 0., 0.],\n",
       "       [0., 0., 0.],\n",
       "       [0., 0., 0.],\n",
       "       [0., 0., 0.],\n",
       "       [0., 0., 0.],\n",
       "       [0., 0., 0.],\n",
       "       [0., 0., 0.],\n",
       "       [0., 0., 0.],\n",
       "       [0., 0., 0.],\n",
       "       [0., 0., 0.],\n",
       "       [0., 0., 0.],\n",
       "       [0., 0., 0.],\n",
       "       [0., 0., 0.],\n",
       "       [0., 0., 0.],\n",
       "       [0., 0., 0.],\n",
       "       [0., 0., 0.],\n",
       "       [0., 0., 0.],\n",
       "       [0., 0., 0.],\n",
       "       [0., 0., 0.],\n",
       "       [0., 0., 0.],\n",
       "       [0., 0., 0.],\n",
       "       [0., 0., 0.],\n",
       "       [0., 0., 0.],\n",
       "       [0., 0., 0.],\n",
       "       [0., 0., 0.],\n",
       "       [0., 0., 0.],\n",
       "       [0., 0., 0.],\n",
       "       [0., 0., 0.],\n",
       "       [0., 0., 0.],\n",
       "       [0., 0., 0.],\n",
       "       [0., 0., 0.],\n",
       "       [0., 0., 0.],\n",
       "       [0., 0., 0.],\n",
       "       [0., 0., 0.],\n",
       "       [0., 0., 0.],\n",
       "       [0., 0., 0.],\n",
       "       [0., 0., 0.],\n",
       "       [0., 0., 0.],\n",
       "       [0., 0., 0.],\n",
       "       [0., 0., 0.],\n",
       "       [0., 0., 0.],\n",
       "       [0., 0., 0.],\n",
       "       [0., 0., 0.],\n",
       "       [0., 0., 0.],\n",
       "       [0., 0., 0.],\n",
       "       [0., 0., 0.],\n",
       "       [0., 0., 0.],\n",
       "       [0., 0., 0.],\n",
       "       [0., 0., 0.],\n",
       "       [0., 0., 0.],\n",
       "       [0., 0., 0.],\n",
       "       [0., 0., 0.],\n",
       "       [0., 0., 0.],\n",
       "       [0., 0., 0.],\n",
       "       [0., 0., 0.],\n",
       "       [0., 0., 0.],\n",
       "       [0., 0., 0.],\n",
       "       [0., 0., 0.],\n",
       "       [0., 0., 0.],\n",
       "       [0., 0., 0.],\n",
       "       [0., 0., 0.],\n",
       "       [0., 0., 0.],\n",
       "       [0., 0., 0.],\n",
       "       [0., 0., 0.],\n",
       "       [0., 0., 0.],\n",
       "       [0., 0., 0.],\n",
       "       [0., 0., 0.],\n",
       "       [0., 0., 0.],\n",
       "       [0., 0., 0.],\n",
       "       [0., 0., 0.],\n",
       "       [0., 0., 0.],\n",
       "       [0., 0., 0.],\n",
       "       [0., 0., 0.],\n",
       "       [0., 0., 0.],\n",
       "       [0., 0., 0.],\n",
       "       [0., 0., 0.],\n",
       "       [0., 0., 0.],\n",
       "       [0., 0., 0.],\n",
       "       [0., 0., 0.],\n",
       "       [0., 0., 0.],\n",
       "       [0., 0., 0.],\n",
       "       [0., 0., 0.],\n",
       "       [0., 0., 0.],\n",
       "       [0., 0., 0.],\n",
       "       [0., 0., 0.],\n",
       "       [0., 0., 0.],\n",
       "       [0., 0., 0.],\n",
       "       [0., 0., 0.],\n",
       "       [0., 0., 0.]])"
      ]
     },
     "execution_count": 11,
     "metadata": {},
     "output_type": "execute_result"
    }
   ],
   "source": [
    "r=np.zeros(iris.shape[0]*K).reshape(iris.shape[0],K)\n",
    "r"
   ]
  },
  {
   "cell_type": "markdown",
   "metadata": {},
   "source": [
    "## How the algorithm works?"
   ]
  },
  {
   "cell_type": "markdown",
   "metadata": {},
   "source": [
    "Now, the complex step, or maybe not. We are going to define a function $J$, this will be called as distortion measure and is given by:"
   ]
  },
  {
   "cell_type": "markdown",
   "metadata": {},
   "source": [
    "\\begin{equation}\n",
    "J=\\sum_{n=1}^{N}\\sum_{k=1}^{K}r_{n,k}||x_{n}-\\mu_{k}\n",
    "||^2\n",
    "\\end{equation}"
   ]
  },
  {
   "cell_type": "markdown",
   "metadata": {},
   "source": [
    "Where $N$ is the total number of observations in the dataset, $K$ is the total clusters defined, \\$x_n$ is each observation  and we know what $\\mu_k$ and $r_{n,k}$ means. As we can see, all the dataset will be used to find the centroid vector given by $\\mu_k$. There is other way to estimate the best centroids using the Robbins-Monro procedure, applying an on-line stochastic algorithm, but this will be in other moment. "
   ]
  },
  {
   "cell_type": "markdown",
   "metadata": {},
   "source": [
    "I. Our first objective is to minimize $J$ respect to $r_{n,k}$, keeping $\\mu_k$ fixed. And considering the next rule:"
   ]
  },
  {
   "cell_type": "markdown",
   "metadata": {},
   "source": [
    "\\begin{equation}\n",
    "  r_{n,k}=\\begin{cases}\n",
    "    1, & \\text{if $k=argmin_j||x_{n}-\\mu_{j}||^2$}.\\\\\n",
    "    0, & \\text{otherwise}.\n",
    "  \\end{cases}\n",
    "\\end{equation}"
   ]
  },
  {
   "cell_type": "markdown",
   "metadata": {},
   "source": [
    "II. Then, we are going to minimize again $J$, but respect to $\\mu_k$, keeping $r_{n,k}$ fixed. Consider the next formula:"
   ]
  },
  {
   "cell_type": "markdown",
   "metadata": {},
   "source": [
    "\\begin{equation}\n",
    "\\mu_k=\\frac{\\sum_n r_{n,k} x_n}{\\sum_n r_{n,k}}\n",
    "\\end{equation}"
   ]
  },
  {
   "cell_type": "markdown",
   "metadata": {},
   "source": [
    "We will do the above steps until convergence. "
   ]
  },
  {
   "cell_type": "code",
   "execution_count": 12,
   "metadata": {},
   "outputs": [
    {
     "name": "stdout",
     "output_type": "stream",
     "text": [
      "1100.879999999999\n",
      "1077.8460571113642\n",
      "870.987494853379\n",
      "869.126836320042\n",
      "923.8112637226989\n",
      "925.4275481881676\n",
      "925.7231759999969\n"
     ]
    }
   ],
   "source": [
    "plot_counter=0\n",
    "J_plot=[]\n",
    "for i in range(1,10): #For this case we only want as maximun 10 iterations\n",
    "    J=0 #Initializing the distortion measure\n",
    "    \n",
    "    #This cicle will be to create all values for r_{n,k} using the database\n",
    "    for n in range(0,iris.shape[0]): \n",
    "        x=np.array(iris.iloc[n,0:4])\n",
    "        mins=[]\n",
    "\n",
    "        for k in range(0,K):\n",
    "            distance=np.linalg.norm(x-mu[k])# Using the Euclidean distance with numpy\n",
    "            mins.append(distance**2) #Just add all distances into the new vector mins, this vector only keep them\n",
    "\n",
    "        k_r=np.argmin(np.array(mins))#Here we apply the rule shown in I.\n",
    "        r[n,k_r]=1 #For the otherwise case, at the end we initialize again the cicle to have a vector of zeros.\n",
    "    \n",
    "    #The next lines will calculate the distortion measure and keep the value of J for plot.\n",
    "    for n in range(0,iris.shape[0]):\n",
    "        for k in range(0,K):\n",
    "            distance=np.linalg.norm(x-mu[k])\n",
    "            J=r[n,k]*(distance**2)+J\n",
    "    J_plot.append(J)\n",
    "\n",
    "    #Now, we are going to update the centroids with all the mu using II. This is why is a K-Means algorithm\n",
    "    for k in range(0,K):\n",
    "        count_1,count_2=0,0\n",
    "        for n in range(0,iris.shape[0]):\n",
    "            x=np.array(iris.iloc[n,0:4])\n",
    "            count_1=r[n,k]*x+count_1\n",
    "            count_2=r[n,k]+count_2\n",
    "        mu[k]=count_1/count_2\n",
    "        \n",
    "    print(J)\n",
    "    #This simple rule is just to break the cicle if the previous J and the actual J don't change considerably\n",
    "    if i>1 and abs(J-J_prev)<0.5:\n",
    "        break\n",
    "    J_prev=J\n",
    "    plot_counter=1+plot_counter\n",
    "    #As I said before, this reinitialize the r vector with zeros\n",
    "    r=np.zeros(iris.shape[0]*K).reshape(iris.shape[0],K)"
   ]
  },
  {
   "cell_type": "markdown",
   "metadata": {},
   "source": [
    "Now we are going to call matplotlib to se how the J is updated and the distortion measure decreases"
   ]
  },
  {
   "cell_type": "code",
   "execution_count": 13,
   "metadata": {},
   "outputs": [],
   "source": [
    "import matplotlib.pyplot as plt"
   ]
  },
  {
   "cell_type": "code",
   "execution_count": 14,
   "metadata": {},
   "outputs": [
    {
     "data": {
      "image/png": "[encoded data removed]",
      "text/plain": [
       "<Figure size 432x288 with 1 Axes>"
      ]
     },
     "metadata": {
      "needs_background": "light"
     },
     "output_type": "display_data"
    }
   ],
   "source": [
    "plt.plot(J_plot,linestyle='-', marker='o',color='green')\n",
    "plt.ylabel('J: Distortion measure')\n",
    "plt.xlabel('Iterations')\n",
    "plt.show()"
   ]
  },
  {
   "cell_type": "markdown",
   "metadata": {},
   "source": [
    "As we saw, the convergence of J is assured, but is more common to converge to a local minimum than a global one for J. This was studied by MacQueen (1967). The final vector for all centroids or mu, will be:"
   ]
  },
  {
   "cell_type": "code",
   "execution_count": 15,
   "metadata": {},
   "outputs": [
    {
     "data": {
      "text/plain": [
       "array([[5.006     , 3.428     , 1.462     , 0.246     ],\n",
       "       [5.82962963, 2.73148148, 4.31481481, 1.39259259],\n",
       "       [6.76956522, 3.03695652, 5.6       , 2.00869565]])"
      ]
     },
     "execution_count": 15,
     "metadata": {},
     "output_type": "execute_result"
    }
   ],
   "source": [
    "mu"
   ]
  },
  {
   "cell_type": "markdown",
   "metadata": {},
   "source": [
    "This how looks the dataset if we only graph the features 0 and 1"
   ]
  },
  {
   "cell_type": "code",
   "execution_count": 16,
   "metadata": {},
   "outputs": [
    {
     "data": {
      "image/png": "[encoded data removed]",
      "text/plain": [
       "<Figure size 432x288 with 1 Axes>"
      ]
     },
     "metadata": {
      "needs_background": "light"
     },
     "output_type": "display_data"
    }
   ],
   "source": [
    "plt.scatter(iris[0],iris[1],marker='.')\n",
    "plt.show()"
   ]
  },
  {
   "cell_type": "markdown",
   "metadata": {},
   "source": [
    "If we add the centroids $\\mu$ to the scatterplot we will see where are the main zones of each K category"
   ]
  },
  {
   "cell_type": "code",
   "execution_count": 39,
   "metadata": {},
   "outputs": [
    {
     "data": {
      "image/png": "[encoded data removed]",
      "text/plain": [
       "<Figure size 432x288 with 1 Axes>"
      ]
     },
     "metadata": {
      "needs_background": "light"
     },
     "output_type": "display_data"
    }
   ],
   "source": [
    "mu=pd.DataFrame(mu)\n",
    "plt.scatter(iris[0],iris[1],marker='.')\n",
    "plt.scatter(mu[0],mu[1],s=100,marker='x',color='red')\n",
    "plt.show()"
   ]
  },
  {
   "cell_type": "markdown",
   "metadata": {},
   "source": [
    "Now we want to know which point belongs to each of the $K=3$ categories. We need to calculate the distance of each point to each centroid $\\mu$ and identify the closest. This information already exist in the $r_{n,k}$ vector after the fit. If there are a one new observation just calculate the distances of the new $x_i$ with $\\mu_k$ for $k=1,2,3$ in this case."
   ]
  },
  {
   "cell_type": "code",
   "execution_count": 34,
   "metadata": {},
   "outputs": [],
   "source": [
    "r_new=[]\n",
    "for row in r:\n",
    "    r_new.append(np.argmax(row)+1)\n",
    "iris[4]=r_new"
   ]
  },
  {
   "cell_type": "markdown",
   "metadata": {},
   "source": [
    "After creating a new vector just to set the correct labels we just plot each category. The \"x\" mark show the centroid and the coloured area next to it is the category."
   ]
  },
  {
   "cell_type": "code",
   "execution_count": 41,
   "metadata": {},
   "outputs": [
    {
     "data": {
      "image/png": "[encoded data removed]",
      "text/plain": [
       "<Figure size 432x288 with 1 Axes>"
      ]
     },
     "metadata": {
      "needs_background": "light"
     },
     "output_type": "display_data"
    }
   ],
   "source": [
    "plt.scatter(iris[0],iris[1],c=iris[4],marker='.')\n",
    "plt.scatter(mu[0],mu[1],s=100,marker='x',color='red')\n",
    "plt.show()"
   ]
  },
  {
   "cell_type": "markdown",
   "metadata": {},
   "source": [
    "It seems that the algorithm don't classify the closest points as part of a $\\mu_k$ category. Remember that we are just plotting in 2D, the complete dataset belongs to 4D and we are using the euclidean distance. Unfortunately we just can see 3D as much."
   ]
  },
  {
   "cell_type": "code",
   "execution_count": 68,
   "metadata": {},
   "outputs": [
    {
     "data": {
      "image/png": "[encoded data removed]",
      "text/plain": [
       "<Figure size 432x288 with 1 Axes>"
      ]
     },
     "metadata": {
      "needs_background": "light"
     },
     "output_type": "display_data"
    }
   ],
   "source": [
    "from mpl_toolkits.mplot3d import Axes3D\n",
    "\n",
    "fig = plt.figure()\n",
    "ax = fig.add_subplot(111, projection='3d')\n",
    "\n",
    "x1 =iris[0]\n",
    "y1 =iris[1]\n",
    "z1 =iris[2]\n",
    "\n",
    "x2=mu[0]\n",
    "y2=mu[1]\n",
    "z2=mu[2]\n",
    "\n",
    "ax.scatter(x1, y1, z1, c=iris[4], marker='.')\n",
    "ax.scatter(x2, y2, z2, c='red', s=200, marker='x')\n",
    "\n",
    "ax.set_xlabel('feature 0')\n",
    "ax.set_ylabel('feature 1')\n",
    "ax.set_zlabel('feature 2')\n",
    "\n",
    "plt.show()"
   ]
  },
  {
   "cell_type": "markdown",
   "metadata": {},
   "source": [
    "## Bibliography\n",
    "\n",
    "Bishop C.M (2009). Pattern recognition and machine learning. Springer Science & Business Media, pp. 424-426\n",
    "\n",
    "MacQueen, J (1967). Some methods for classification and analysis of multivariate observations. In L.M LeCam and J. Neyman (Eds.), Proceedings of the Fifth Berkeley Symposium on Mathematical Statistics and Probability, Volume I, pp. 281-297. University of California Press"
   ]
  }
 ],
 "metadata": {
  "kernelspec": {
   "display_name": "Python 3",
   "language": "python",
   "name": "python3"
  },
  "language_info": {
   "codemirror_mode": {
    "name": "ipython",
    "version": 3
   },
   "file_extension": ".py",
   "mimetype": "text/x-python",
   "name": "python",
   "nbconvert_exporter": "python",
   "pygments_lexer": "ipython3",
   "version": "3.7.3"
  }
 },
 "nbformat": 4,
 "nbformat_minor": 2
}
